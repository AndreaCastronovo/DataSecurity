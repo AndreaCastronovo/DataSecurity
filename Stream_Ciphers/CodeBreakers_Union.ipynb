{
 "cells": [
  {
   "cell_type": "markdown",
   "id": "bd7ea495",
   "metadata": {},
   "source": [
    "# Stream Cipher"
   ]
  },
  {
   "cell_type": "code",
   "execution_count": 1,
   "id": "5a21e285-771a-4a16-a1d3-29a418c1de67",
   "metadata": {},
   "outputs": [],
   "source": [
    "from functools import reduce\n",
    "from operator import xor\n",
    "\n",
    "from streamcipher import LFSR, Bytes2Bool, Bool2Bytes\n",
    "from streamcipher import berlekamp_massey, poly_int2str\n",
    "from streamcipher import ShrinkingGenerator, SelfShrinkingGenerator\n",
    "from streamcipher import frequency_test, block_frequency_test, runs_test"
   ]
  },
  {
   "cell_type": "markdown",
   "id": "b4eb5c59-4de7-482b-8985-ac5e678034a9",
   "metadata": {},
   "source": [
    "A stream cipher is a **symmetric key cipher** where the plaintext is encrypted (and ciphertext is decrypted) one digit at a time. A digit usually is either a *bit* or a *byte*. [[1]](#[1])"
   ]
  },
  {
   "cell_type": "markdown",
   "id": "a195aec1-6927-4d62-8cab-2150b0a88db3",
   "metadata": {},
   "source": [
    "<img src=\"Images/StreamCipher.png\" width=\"540\" height=\"340\" style=\"margin:auto\"/>"
   ]
  },
  {
   "cell_type": "markdown",
   "id": "5065c9ad-d1bc-4bc2-82c5-be35c3ba0dbd",
   "metadata": {},
   "source": [
    "Encryption (decryption) is achieved by xoring the plaintext (ciphertext) with a stream of pseudorandom digits obtained as an expansion of the key."
   ]
  },
  {
   "cell_type": "markdown",
   "id": "149f9e72",
   "metadata": {},
   "source": [
    "## LFSR"
   ]
  },
  {
   "cell_type": "markdown",
   "id": "48bf9884-1e36-4233-b603-fa144759a3d4",
   "metadata": {},
   "source": [
    "In an LFSR, the output from a standard shift register is fed back into its input causing an endless cycle. The feedback bit is the result of a linear combination of the shift register content and the polynomial coefficients. [[1]](#[1])"
   ]
  },
  {
   "cell_type": "markdown",
   "id": "5a28602c-8e6b-4755-bafe-5dd5e9edb310",
   "metadata": {},
   "source": [
    "<img src=\"Images/LFSR.png\" width=\"540\" height=\"340\" style=\"margin:auto\"/>"
   ]
  },
  {
   "cell_type": "markdown",
   "id": "242226cc-5a7c-4e09-8089-cd5db4a43fbe",
   "metadata": {},
   "source": [
    "From the block scheme:"
   ]
  },
  {
   "cell_type": "markdown",
   "id": "39d1dbc9-cde2-4d48-bae8-7266d3e7e7eb",
   "metadata": {},
   "source": [
    "\\begin{flalign}\n",
    "\\left\\{\n",
    "\\begin{array}{ll}\n",
    "s_j[t] = s_{j+1}[t - 1], & j = 0,1,...,m - 2 \\\\\n",
    "s_{m−1}[t] = \\bigoplus_{j=0}^{m−1} p_{m−j}\\times s_j[t − 1] \\\\\n",
    "b[t] = s_{0}[t]\n",
    "\\end{array}\n",
    "\\right. &&\n",
    "\\end{flalign}"
   ]
  },
  {
   "cell_type": "markdown",
   "id": "3bbb6668",
   "metadata": {
    "jp-MarkdownHeadingCollapsed": true
   },
   "source": [
    "### testing"
   ]
  },
  {
   "cell_type": "markdown",
   "id": "ebd5aaf2",
   "metadata": {},
   "source": [
    "Test LFSR implementation (all attributes and mehtods) with the polynomial `poly = [4, 1, 0]`."
   ]
  },
  {
   "cell_type": "code",
   "execution_count": 2,
   "id": "e6cc5c8b-3b0e-408c-951f-9db0ed0ec4c2",
   "metadata": {},
   "outputs": [
    {
     "name": "stdout",
     "output_type": "stream",
     "text": [
      " degree          P(x)                state          b  fd \n",
      "----------------------------------------------------------\n",
      "   4        x^4 + x^1 + 1      b'\\xf0' -> 0b1111    1   0 \n"
     ]
    }
   ],
   "source": [
    "poly = [4,1,0]\n",
    "\n",
    "# test instance with default state\n",
    "test = LFSR(poly)\n",
    "# print instance (__str__) with attributes\n",
    "print(test)\n",
    "\n",
    "# expected output\n",
    "#\n",
    "# degree 4\n",
    "# poly   [1,0,0,1,1]\n",
    "# state  b'\\xf0'\n",
    "# b      True\n",
    "# fd     False"
   ]
  },
  {
   "cell_type": "code",
   "execution_count": 3,
   "id": "3dc7ef10-acf6-4424-a48b-f8e625ba50e7",
   "metadata": {},
   "outputs": [
    {
     "name": "stdout",
     "output_type": "stream",
     "text": [
      "Must keep attention to big endian, state set as b'\\xa0'\n"
     ]
    }
   ],
   "source": [
    "# set state\n",
    "try:\n",
    "    test.state = b'\\x0a'\n",
    "except ValueError:\n",
    "    # expected to be here\n",
    "    test.state = b'\\xa0'\n",
    "    print('Must keep attention to big endian, state set as', test.state)"
   ]
  },
  {
   "cell_type": "code",
   "execution_count": 4,
   "id": "ab68a579-fede-4e79-aba7-d572fc17825d",
   "metadata": {},
   "outputs": [
    {
     "name": "stdout",
     "output_type": "stream",
     "text": [
      "Cannot change output LFSR attribute\n"
     ]
    }
   ],
   "source": [
    "# but not feedback or other attributes\n",
    "try:\n",
    "    test.output = False\n",
    "except AttributeError:\n",
    "    # expected to be here\n",
    "    print('Cannot change output LFSR attribute')"
   ]
  },
  {
   "cell_type": "code",
   "execution_count": 5,
   "id": "787a4ee4-0ae5-47b3-88d7-f215cd8e3027",
   "metadata": {},
   "outputs": [
    {
     "name": "stdout",
     "output_type": "stream",
     "text": [
      "b_sequence: [False, False, True, False, False, False, True, True, True, True, False, True, False, True, True, False]\n"
     ]
    }
   ],
   "source": [
    "# check of one cycle\n",
    "state = b'@' # '\\x40'\n",
    "\n",
    "print('b_sequence:', test.cycle(state))\n",
    "# expected out: [0, 0, 1, 0, 0, 0, 1, 1, 1, 1, 0, 1, 0, 1, 1, 0]"
   ]
  },
  {
   "cell_type": "code",
   "execution_count": 6,
   "id": "6eddda1b-5f35-4df7-a79d-38993db84e7e",
   "metadata": {},
   "outputs": [
    {
     "name": "stdout",
     "output_type": "stream",
     "text": [
      "From    state     b  fd \n",
      "       -------   --- ---\n",
      "         b'@'     0   0 \n",
      "\n",
      "Across b_sequence: [False, True, False, False, False, True] \n",
      "\n",
      " To     state     b  fd \n",
      "       -------   --- ---\n",
      "       b'\\xf0'    1   0 \n"
     ]
    }
   ],
   "source": [
    "# check of N steps\n",
    "N = 6\n",
    "\n",
    "spacing = '{:^5} {:^10} {:^3} {:^3}'\n",
    "print(spacing.format('From','state','b','fd'))\n",
    "print(spacing.format('    ','-------','---','---'))\n",
    "print(spacing.format('    ',str(test.state),test.output,test.feedback))\n",
    "\n",
    "print('\\nAcross b_sequence:', test.run_steps(N), '\\n')\n",
    "\n",
    "print(spacing.format('To','state','b','fd'))\n",
    "print(spacing.format('    ','-------','---','---'))\n",
    "print(spacing.format('    ',str(test.state),test.output,test.feedback))\n",
    "# expected out: 0 + [0, 1, 0, 0, 0, 1], s = b'\\xf0', fd = False"
   ]
  },
  {
   "cell_type": "markdown",
   "id": "0f5f9c4e",
   "metadata": {},
   "source": [
    "## Berlekamp Massey"
   ]
  },
  {
   "cell_type": "markdown",
   "id": "091200f5-8137-433e-b75c-e4ff55ed230e",
   "metadata": {},
   "source": [
    "Algorithm that will find the shortest linear-feedback shift register (LFSR) for a given binary output sequence, computing the minimal polynomial of a linearly recurrent sequence[[1]](#[1]). BM algorithm requir to don't have all-zero states to avoid to have only 0's sequence."
   ]
  },
  {
   "cell_type": "markdown",
   "id": "661ac806",
   "metadata": {
    "jp-MarkdownHeadingCollapsed": true
   },
   "source": [
    "### testing"
   ]
  },
  {
   "cell_type": "markdown",
   "id": "c3400ce8",
   "metadata": {},
   "source": [
    "Test the implementation Berlekamp-Massy Algorithm with the sequence produced by the following LFSR:\n",
    "- `poly = [3, 1, 0]` and `state = '\\x60'`\n",
    "- `poly = [5, 2, 1, 0]` and `state = '\\x50'`\n",
    "- `poly = [96, 81, 17, 15, 0]` and `state = b'streamcipher'`"
   ]
  },
  {
   "cell_type": "code",
   "execution_count": 7,
   "id": "882a2776",
   "metadata": {},
   "outputs": [
    {
     "name": "stdout",
     "output_type": "stream",
     "text": [
      "The shortest polynomial is: x^3 + x^1 + 1\n",
      "Linear complexity: 3\n"
     ]
    }
   ],
   "source": [
    "##### poly = [3,1,0] and state = '\\x60' ---> 0b011 #####\n",
    "\n",
    "# how many bits of sequence? cycle, but at least 6\n",
    "N = 6\n",
    "# create LFSR and produce sequence\n",
    "test = LFSR([3,1,0], b'\\x60')\n",
    "b_seq = test.run_steps(N)\n",
    "# find shortest LFSR\n",
    "poly, m = berlekamp_massey(b_seq)\n",
    "\n",
    "print('The shortest polynomial is:', poly_int2str(poly))\n",
    "print('Linear complexity:', m)"
   ]
  },
  {
   "cell_type": "code",
   "execution_count": 8,
   "id": "b7c2b1d8-0fce-4961-a098-135f625aad22",
   "metadata": {},
   "outputs": [
    {
     "name": "stdout",
     "output_type": "stream",
     "text": [
      "The shortest polynomial is:  x^2 + 1\n",
      "Linear complexity: 2\n"
     ]
    }
   ],
   "source": [
    "##### poly = [5,2,1,0] and state = '\\x50' ---> 0b01010 #####\n",
    "\n",
    "# how many? at least 3 because seq is a repeating of 01\n",
    "N = 3\n",
    "# create instance of LFSR\n",
    "test = LFSR([5,2,1,0], b'\\x50')\n",
    "b_seq = test.run_steps(N)\n",
    "# find shortest LFSR\n",
    "poly, m = berlekamp_massey(b_seq)\n",
    "\n",
    "print('The shortest polynomial is: ', poly_int2str(poly))\n",
    "print('Linear complexity:', m)"
   ]
  },
  {
   "cell_type": "code",
   "execution_count": 9,
   "id": "e73ce696-f2c6-4a14-aaaf-e1c78d63bf56",
   "metadata": {},
   "outputs": [
    {
     "name": "stdout",
     "output_type": "stream",
     "text": [
      "The shortest polynomial is:  x^96 + x^81 + x^17 + x^15 + 1\n",
      "Linear complexity: 96\n"
     ]
    }
   ],
   "source": [
    "##### poly = [96, 81, 17, 15, 0] and state = b'streamcipher' #####\n",
    "\n",
    "# how many? at least 192\n",
    "N = 192\n",
    "# create instance of LFSR\n",
    "test = LFSR([96,81,17,15,0], b'streamcipher')\n",
    "b_seq = test.run_steps(N)\n",
    "# find shortest LFSR\n",
    "poly, m = berlekamp_massey(b_seq)\n",
    "\n",
    "print('The shortest polynomial is: ', poly_int2str(poly))\n",
    "print('Linear complexity:', m)"
   ]
  },
  {
   "cell_type": "markdown",
   "id": "71170711",
   "metadata": {},
   "source": [
    "Load `'binary_sequence'` and find the polynomial corresponding to the shortest LFSR that can produce that sequence."
   ]
  },
  {
   "cell_type": "code",
   "execution_count": 10,
   "id": "42256487",
   "metadata": {},
   "outputs": [
    {
     "name": "stdout",
     "output_type": "stream",
     "text": [
      "The shortest polynomial is:  x^16 + x^14 + x^13 + x^12 + x^9 + x^2 + 1\n",
      "Linear complexity: 16\n"
     ]
    }
   ],
   "source": [
    "# load\n",
    "with open(file='binary_sequence.bin', mode='rb') as f:\n",
    "    b_seq = f.read()\n",
    "\n",
    "# berlekamp_massey\n",
    "poly, m = berlekamp_massey(Bytes2Bool(b_seq))\n",
    "\n",
    "print('The shortest polynomial is: ', poly_int2str(poly))\n",
    "print('Linear complexity:', m)"
   ]
  },
  {
   "cell_type": "markdown",
   "id": "11f7dd2d",
   "metadata": {},
   "source": [
    "## LFSR-based Generator (Shrinking or Self-Shrinking Generator)"
   ]
  },
  {
   "cell_type": "markdown",
   "id": "33b99201-28c4-4103-a3e5-dd8b0135b409",
   "metadata": {},
   "source": [
    "The shrinking generator comprises LFSRA that produces bits and LFSRS that selects the produced bits[[1]](#[1])."
   ]
  },
  {
   "cell_type": "markdown",
   "id": "6b339163-19cd-4d8e-8c3f-d3fa0c4915f9",
   "metadata": {},
   "source": [
    "<img src=\"Images/ShrinkingGenerator.png\" width=\"540\" height=\"340\" style=\"margin:auto\"/>"
   ]
  },
  {
   "cell_type": "markdown",
   "id": "a81378c5-2a88-4ea5-9649-212739db3df7",
   "metadata": {},
   "source": [
    "The Self-Shrinking Generator is composed by a single LFSR that produce bits and selects them depending on the value of the internal state[[1]](#[1])."
   ]
  },
  {
   "cell_type": "markdown",
   "id": "93835c72-3123-4828-8fb0-b80fb30f0399",
   "metadata": {},
   "source": [
    "<img src=\"Images/Self-ShrinkingGenerator.png\" width=\"540\" height=\"340\" style=\"margin:auto\"/>"
   ]
  },
  {
   "cell_type": "markdown",
   "id": "13198006",
   "metadata": {
    "jp-MarkdownHeadingCollapsed": true,
    "tags": []
   },
   "source": [
    "### testing"
   ]
  },
  {
   "cell_type": "code",
   "execution_count": 11,
   "id": "50d07774-d00c-4954-9f33-81e3fd5253cb",
   "metadata": {},
   "outputs": [
    {
     "name": "stdout",
     "output_type": "stream",
     "text": [
      "Assignment generator: Shrinking Generator\n"
     ]
    }
   ],
   "source": [
    "# find the generator assignment\n",
    "group_name = b'CodeBreakers Union'\n",
    "parity_bit = reduce(xor, Bytes2Bool(group_name))\n",
    "\n",
    "if parity_bit:\n",
    "    print('Assignment generator: Self-Shrinking Generator')\n",
    "else:\n",
    "    print('Assignment generator: Shrinking Generator')"
   ]
  },
  {
   "cell_type": "markdown",
   "id": "69edbabe-9b0f-435f-bd4b-0d450f713bc1",
   "metadata": {},
   "source": [
    "Test Generator implementation (all attributes and methods)."
   ]
  },
  {
   "cell_type": "code",
   "execution_count": 12,
   "id": "38f54c80-e3d5-4a07-9038-be586d981db9",
   "metadata": {},
   "outputs": [
    {
     "name": "stdout",
     "output_type": "stream",
     "text": [
      "Encryption of \"Hello World!\" turns out to be b'\\xb4suG\\x01\\x80\\xa4K.\\x89YV'\n"
     ]
    }
   ],
   "source": [
    "# Try to encrypt a text\n",
    "bytes_seq_plaintxt = b'Hello World!'\n",
    "bool_seq_plaintxt = Bytes2Bool(bytes_seq_plaintxt)\n",
    "# Shrinking with default state and polys\n",
    "shrink_enc = ShrinkingGenerator()\n",
    "\n",
    "# encryption\n",
    "bool_ciphertxt = [bool_seq_plaintxt[0]^shrink_enc.output]\n",
    "for b,s in zip(bool_seq_plaintxt[1:], shrink_enc):\n",
    "    bool_ciphertxt.append(b^s)\n",
    "    \n",
    "ciphertxt = Bool2Bytes(bool_ciphertxt)\n",
    "\n",
    "# print\n",
    "print('Encryption of \"' + bytes_seq_plaintxt.decode() + '\" turns out to be', ciphertxt)"
   ]
  },
  {
   "cell_type": "code",
   "execution_count": 13,
   "id": "d360966c-3bf1-4e42-84f7-f2c01425f415",
   "metadata": {},
   "outputs": [
    {
     "name": "stdout",
     "output_type": "stream",
     "text": [
      "Plaintext is: Hello World!\n"
     ]
    }
   ],
   "source": [
    "# Try to decrypt the text\n",
    "bool_seq_ciphertxt = Bytes2Bool(ciphertxt)\n",
    "# Shrinking with default state input\n",
    "shrink_dec = ShrinkingGenerator([5,2,0], [3,1,0], b'\\xf8', b'\\xe0')\n",
    "\n",
    "# decryption\n",
    "bool_plaintxt = [bool_seq_ciphertxt[0]^shrink_dec.output]\n",
    "for b,s in zip(bool_seq_ciphertxt[1:], shrink_dec):\n",
    "    bool_plaintxt.append(b^s)\n",
    "\n",
    "plaintxt = Bool2Bytes(bool_plaintxt)\n",
    "\n",
    "# print\n",
    "print('Plaintext is:', plaintxt.decode())"
   ]
  },
  {
   "cell_type": "markdown",
   "id": "8d2b63d3",
   "metadata": {},
   "source": [
    "Decrypt the ciphertext in `ciphertext_shrinking.bin` or `ciphertext_selfshrinking.bin`."
   ]
  },
  {
   "cell_type": "code",
   "execution_count": 14,
   "id": "be3bbfe1-ed49-48f8-93b1-e38b730fc5bb",
   "metadata": {},
   "outputs": [],
   "source": [
    "# for Shrinking Generator\n",
    "polyA = [16, 15, 12, 10, 0]\n",
    "polyS = [24, 11, 5, 2, 0]\n",
    "stateA = b'\\xc5\\xd7' \n",
    "stateS = b'\\x14\\x84\\xf8'"
   ]
  },
  {
   "cell_type": "code",
   "execution_count": 15,
   "id": "9d575238-a930-492c-8a1f-d3d3430b0659",
   "metadata": {},
   "outputs": [],
   "source": [
    "# for Self-Shrinking Generator\n",
    "poly = [32, 16, 7, 2, 0]\n",
    "selection_bit = 4\n",
    "state = b'mJ\\x9by'"
   ]
  },
  {
   "cell_type": "code",
   "execution_count": 16,
   "id": "a075aba9-7d5c-4b56-96d3-d0591e8a8f8a",
   "metadata": {},
   "outputs": [
    {
     "name": "stdout",
     "output_type": "stream",
     "text": [
      "The Shrinking Generator\n",
      "Don Coppersmith, Hugo Krawczyk, Yishay Mansour\n",
      "IBM T.J. Watson Research Center\n",
      "Yorktown Heights, NY 10598\n",
      "\n",
      "Abstract. We present a new construction of a pseudorandom generator based on a simple combination of two LFSRs. The construction bas attractive properties as simplicity (conceptual and implementation-wise), scalability (hardware and security), proven minimal security conditions (exponential period, exponential linear complexity, good statistical properties), and resistance to known attacks. The construction is suitable for practical implementation of efficient stream cipher cryptosystems.\n"
     ]
    }
   ],
   "source": [
    "# shrinking\n",
    "shrink = ShrinkingGenerator(polyA, polyS, stateA, stateS)\n",
    "# load\n",
    "with open(file='ciphertext_shrinking.bin', mode='rb') as f:\n",
    "    bytes_seq_chipertxt = f.read()\n",
    "\n",
    "bool_seq_chipertxt = Bytes2Bool(bytes_seq_chipertxt)\n",
    "\n",
    "bool_plaintxt = [bool_seq_chipertxt[0]^shrink.output]\n",
    "for b,s in zip(bool_seq_chipertxt[1:], shrink):\n",
    "    bool_plaintxt.append(b^s)\n",
    "\n",
    "bytes_plaintxt = Bool2Bytes(bool_plaintxt)\n",
    "print(bytes_plaintxt.decode())"
   ]
  },
  {
   "cell_type": "markdown",
   "id": "41a9bd9e-2626-448d-a9b6-b8999580ba01",
   "metadata": {},
   "source": [
    "##  Statistical Tests"
   ]
  },
  {
   "cell_type": "markdown",
   "id": "4fc359f8-f9c7-4636-94b5-47dd19b53765",
   "metadata": {},
   "source": [
    "Binary sequences must resemble a truly random sequence to be unpredictable. So,\n",
    "<br><br>\n",
    "**How to test randomness of a binary sequence?**\n",
    "<br><br>\n",
    "*NIST* proposes a statistical test suite. Each test assesses the presence of a specific pattern which would indicate that the sequence is not random. NIST Test Suite consists of 15 tests to assess the randomness of arbitrarily long binary sequences[[1]](#[1]):\n",
    "\n",
    "* **The Frequency (Monobit) Test**\n",
    "* **Frequency Test within a Block**\n",
    "* **The Runs Test**\n",
    "* Tests for the Longest-Run-of-Ones in a Block\n",
    "* The Binary Matrix Rank Test\n",
    "* The Discrete Fourier Transform (Spectral) Test\n",
    "* The Non-overlapping Template Matching Test\n",
    "* The Overlapping Template Matching Test\n",
    "* Maurer's \"Universal Statistical\" Test\n",
    "* The Linear Complexity Test\n",
    "* The Serial Test\n",
    "* The Approximate Entropy Test\n",
    "* The Cumulative Sums (Cusums) Test\n",
    "* The Random Excursions Test\n",
    "* The Random Excursions Variant Test"
   ]
  },
  {
   "cell_type": "markdown",
   "id": "98880f6d-53c0-46c1-b2d3-d16007f9dc73",
   "metadata": {},
   "source": [
    "A statistical test takes a binary sequence (and optionally other parameters) and returns a binary outcome PASS/FAIL. In general, a test consists of three phases[[1]](#[1]):\n",
    "* Compute a statistic: any quantity computed from the binary sequence\n",
    "* Compute the 𝒑-value: the probability to compute a statistic at least as extreme as the one actually computed, under the assumption that the binary sequence is random.\n",
    "* Compare the 𝑝-value with the significance level of the test (𝛼): the probability of concluding that a truly random sequence is not random."
   ]
  },
  {
   "cell_type": "code",
   "execution_count": 17,
   "id": "110b50d8-d18a-4af3-9399-9f89f1f8875b",
   "metadata": {},
   "outputs": [],
   "source": [
    "# create custom sequence\n",
    "n = 4000\n",
    "percentage_of_ones = 40\n",
    "# compute number of ones in seq\n",
    "num_ones = int(n * percentage_of_ones / 100)\n",
    "\n",
    "custom_seq = [1 if i<num_ones else 0 for i in range(n)]"
   ]
  },
  {
   "cell_type": "code",
   "execution_count": 18,
   "id": "0ad9b90a-53e0-4192-a5e9-6155b36f258c",
   "metadata": {},
   "outputs": [],
   "source": [
    "# create sequence from shrinking generator\n",
    "n = 4000\n",
    "shrink = ShrinkingGenerator()\n",
    "\n",
    "shrink_seq = [int(shrink.output)]\n",
    "for i,b in enumerate(shrink):\n",
    "    shrink_seq.append(int(b))\n",
    "    if i>n-3: break"
   ]
  },
  {
   "cell_type": "markdown",
   "id": "898194f4-cba8-49ce-abcf-bc0681da8d36",
   "metadata": {
    "jp-MarkdownHeadingCollapsed": true
   },
   "source": [
    "### Frequency (Monobit) test"
   ]
  },
  {
   "cell_type": "markdown",
   "id": "5718c697-b944-40b1-9b82-12d4f7e55ffd",
   "metadata": {},
   "source": [
    "Determine whether the number of ones and zeros in a sequenceare approximately the same as would be expected for a truly random sequence.[[1]](#[1])"
   ]
  },
  {
   "cell_type": "code",
   "execution_count": 19,
   "id": "2d7a6a41-3bff-41a1-9d0a-711b93177f56",
   "metadata": {},
   "outputs": [
    {
     "name": "stdout",
     "output_type": "stream",
     "text": [
      "Custom sequence fail frequency (monobit) test\n",
      "Generator sequence pass frequency (monobit) test\n"
     ]
    }
   ],
   "source": [
    "# frequency (monobit) test\n",
    "custom_result = 'pass' if frequency_test(custom_seq) else 'fail'\n",
    "shrink_result = 'pass' if frequency_test(shrink_seq) else 'fail'\n",
    "\n",
    "print('Custom sequence', custom_result, 'frequency (monobit) test')\n",
    "print('Generator sequence', shrink_result, 'frequency (monobit) test')"
   ]
  },
  {
   "cell_type": "markdown",
   "id": "21c89853-6181-4db1-ab7f-aafb799b1f5f",
   "metadata": {
    "jp-MarkdownHeadingCollapsed": true
   },
   "source": [
    "### Frequency test within a Block"
   ]
  },
  {
   "cell_type": "markdown",
   "id": "d74a662c-65af-4c14-8d4e-e448e20ed509",
   "metadata": {},
   "source": [
    "Determine whether the frequency of ones in an 𝑀-bit block of a sequence is approximately 𝑀/2.[[1]](#[1])"
   ]
  },
  {
   "cell_type": "code",
   "execution_count": 20,
   "id": "92c3c5e2-b88c-441c-bcc8-1637945938ee",
   "metadata": {},
   "outputs": [
    {
     "name": "stdout",
     "output_type": "stream",
     "text": [
      "Custom sequence fail frequency (monobit) test\n",
      "Generator sequence pass frequency (monobit) test\n"
     ]
    }
   ],
   "source": [
    "# frequency block test\n",
    "custom_result = 'pass' if block_frequency_test(custom_seq, 40) else 'fail'\n",
    "shrink_result = 'pass' if block_frequency_test(shrink_seq, 40) else 'fail'\n",
    "\n",
    "print('Custom sequence', custom_result, 'frequency (monobit) test')\n",
    "print('Generator sequence', shrink_result, 'frequency (monobit) test')"
   ]
  },
  {
   "cell_type": "markdown",
   "id": "8c32556c-a46e-4fb6-8fec-af7561e8d7e8",
   "metadata": {
    "jp-MarkdownHeadingCollapsed": true
   },
   "source": [
    "### Runs test"
   ]
  },
  {
   "cell_type": "markdown",
   "id": "002df969-a670-481f-b93c-508883e8e1bc",
   "metadata": {},
   "source": [
    "determine whether the number of runs of ones and zeros in a sequence is as expected. A run of length 𝑘 is a sequence of 𝑘 identical bits bounded before and after with a bit of the opposite value.[[1]](#[1])"
   ]
  },
  {
   "cell_type": "code",
   "execution_count": 21,
   "id": "22262bbb-b0b3-4df8-85db-01833512b2c7",
   "metadata": {},
   "outputs": [
    {
     "name": "stdout",
     "output_type": "stream",
     "text": [
      "Custom sequence fail frequency (monobit) test\n",
      "Generator sequence pass frequency (monobit) test\n"
     ]
    }
   ],
   "source": [
    "# runs test\n",
    "custom_result = 'pass' if runs_test(custom_seq) else 'fail'\n",
    "shrink_result = 'pass' if runs_test(shrink_seq) else 'fail'\n",
    "\n",
    "print('Custom sequence', custom_result, 'frequency (monobit) test')\n",
    "print('Generator sequence', shrink_result, 'frequency (monobit) test')"
   ]
  },
  {
   "cell_type": "markdown",
   "id": "0fdca22c",
   "metadata": {
    "tags": []
   },
   "source": [
    "## Conclusion"
   ]
  },
  {
   "cell_type": "markdown",
   "id": "74aea14a-62e0-4338-886a-05eda4af11d8",
   "metadata": {},
   "source": [
    "To summarize, this research has extensively examined the complexities of stream ciphers and the fundamental components that drive their effectiveness, specifically emphasizing the significance of LFSRs and the Berlekamp-Massey Algorithm in enhancing cryptographic protection. By conducting a thorough evaluation of LFSR-based generators, including the Shrinking and Self-Shrinking Generators, we have investigated their ability to establish resilient encryption systems generating a passable tested truly random binary sequence."
   ]
  },
  {
   "cell_type": "markdown",
   "id": "ef136062-ad17-4861-bb54-57c039d8b99e",
   "metadata": {},
   "source": [
    "## Reference"
   ]
  },
  {
   "cell_type": "markdown",
   "id": "5a0c81b0-7629-4384-9609-8bd57e82c8c5",
   "metadata": {},
   "source": [
    "<span id='[1]' > [1] \"<a href = \"stream-cipher.pdf\"> Stream Ciphers </a>\""
   ]
  }
 ],
 "metadata": {
  "kernelspec": {
   "display_name": "Python 3 (ipykernel)",
   "language": "python",
   "name": "python3"
  },
  "language_info": {
   "codemirror_mode": {
    "name": "ipython",
    "version": 3
   },
   "file_extension": ".py",
   "mimetype": "text/x-python",
   "name": "python",
   "nbconvert_exporter": "python",
   "pygments_lexer": "ipython3",
   "version": "3.11.7"
  }
 },
 "nbformat": 4,
 "nbformat_minor": 5
}
