{
 "cells": [
  {
   "cell_type": "markdown",
   "id": "00172a96",
   "metadata": {},
   "source": [
    "# Substitution Ciphers"
   ]
  },
  {
   "cell_type": "code",
   "execution_count": null,
   "id": "082b70d2-197b-4c55-9092-4c1cb02a6298",
   "metadata": {},
   "outputs": [],
   "source": [
    "# import modules\n",
    "import matplotlib.pyplot as plt\n",
    "import pickle"
   ]
  },
  {
   "cell_type": "markdown",
   "id": "c20a9001-f4fd-401f-922b-db8347ff36fe",
   "metadata": {},
   "source": [
    "## Introduction"
   ]
  },
  {
   "cell_type": "markdown",
   "id": "0051f2c2-9eae-4ee2-83e8-7f807471a478",
   "metadata": {},
   "source": [
    "A typical scenario in data security involves transmitting **private information** from a sender to a receiver through a public space. This information is kept secret thanks to Encryption and Decryption functions that work with shared information, known as a **key**. The goals of data security include *confidentiality* or privacy (ensuring any eavesdropper cannot understand the information), *integrity*, *authentication*, and *non-repudiation*.\n",
    "\n",
    "A substitution cipher is *a symmetric encryption method* where each letter in the plaintext is replaced by another letter. The replacement is determined by a fixed system, such as shifting letters by a certain number of positions in the alphabet (as in the **Caesar cipher**), or by a mapping of letters (as in the **simple substitution cipher**). Despite being simple to implement, these ciphers are **vulnerable** to frequency analysis attacks, where the frequency of letters in the ciphertext is compared to the known frequency of letters in the language used in the text.\n"
   ]
  },
  {
   "cell_type": "markdown",
   "id": "6a297866",
   "metadata": {
    "jp-MarkdownHeadingCollapsed": true
   },
   "source": [
    "## Caesar Cipher"
   ]
  },
  {
   "cell_type": "markdown",
   "id": "fbc5072e-0552-4baa-99c4-0c4e2ce73dc6",
   "metadata": {},
   "source": [
    "The Caesar Cipher is one of the simplest and historically known encryption techniques. It’s named after Roman Emperor Julius Caesar, who used it in his private and military correspondence. The goal is to **encrypt text**, not bits. The idea is that each letter of the plaintext (original text) is replaced with a letter some fixed number of positions down the alphabet. *For example, with a shift of 4, H would be replaced by L, E would become I, and so on*. Because the replacement remains the same throughout the message, the **key** is only the **shift value** of the alphabet. To decrypt the message, you simply need to shift each letter back by the same number of positions (*symmetric algorithm*). [[1]](#[1])"
   ]
  },
  {
   "cell_type": "markdown",
   "id": "0ff0a018-9180-45d4-ada7-155b66d6e39b",
   "metadata": {},
   "source": [
    "The advantage of simplicity in implementation is paid with vulnerability. Indeed, there are some ways to break it:\n",
    "* **Brute Force Attack**: Given the Caesar Cipher’s limited key space (26 possible shifts in English), an attacker can systematically try all possible shifts to decrypt the message. This method is guaranteed to succeed due to the finite nature of possible keys.\n",
    "* **Frequency Analysis Attack**: This attack leverages the fact that each language has a distinctive letter frequency. By comparing the frequencies of characters in the encrypted message to those in the language, an attacker can guess the shift value."
   ]
  },
  {
   "cell_type": "markdown",
   "id": "b29aef0d-75ee-4da1-b058-09fea1bb9c0a",
   "metadata": {},
   "source": [
    "### Encryption"
   ]
  },
  {
   "cell_type": "markdown",
   "id": "7b948680-eb9f-4436-aa49-e9a925abda71",
   "metadata": {},
   "source": [
    "The encryption function takes each plaintext character and, thanks to a mapping between plaintext and ciphertext internally created from the given key as shift value, they will be replaced to return a ciphertext; spaces or special characters will not be substituted.\n",
    "<br><br>As shown in the example below, a *shift of 4* will create this mapping which allows *‘hello!’* plaintext to be encrypted as *‘lips!’*.\n",
    "$$Plain\\; -ABCDEFGHIJKLMNOPQRSTUVWXYZ$$$$Ciphe\\; -EFGHIJKLMNOPQRSTUVWXYZABCD$$"
   ]
  },
  {
   "cell_type": "code",
   "execution_count": null,
   "id": "f588b1c5-3f06-492c-8d10-91f721b4d47c",
   "metadata": {},
   "outputs": [],
   "source": [
    "def caesar_encrypt(plaintext, shift=0):\n",
    "    # Help Description\n",
    "    ''' Encrypt `plaintext` (str) as a caesar cipher with a given `shift` (int) \n",
    "    '''\n",
    "    # Define dictionary {eng_letter : shift_letter}\n",
    "    unicode_chr = [i for i in range(ord('a'), ord('z')+1)]\n",
    "\n",
    "    engl_shiftl = {}\n",
    "    for i,k in enumerate(unicode_chr):\n",
    "        engl_shiftl[chr(k)] = chr(unicode_chr[(i+shift)%26])\n",
    "\n",
    "    # Ciphertext\n",
    "    ciphertext = ''\n",
    "    for l in plaintext:\n",
    "        # Get value from dictionary giving plaintext\n",
    "        ciphertext += engl_shiftl.setdefault(l, l)\n",
    "    \n",
    "    return ciphertext"
   ]
  },
  {
   "cell_type": "code",
   "execution_count": null,
   "id": "9eb77216-0505-4a29-a8e8-458e273a91f4",
   "metadata": {},
   "outputs": [],
   "source": [
    "# code snippet to test the implementation of the encryption function\n",
    "plaintext = 'hello!' \n",
    "ciphertext = caesar_encrypt(plaintext, shift=4)\n",
    "\n",
    "print(plaintext, '->', ciphertext) # expected output 'hello! -> lipps!'"
   ]
  },
  {
   "cell_type": "markdown",
   "id": "d79da87f-6130-427e-9104-9619e3b7b5e4",
   "metadata": {},
   "source": [
    "### Decryption"
   ]
  },
  {
   "cell_type": "markdown",
   "id": "a74619b4-9f5a-4309-99c4-1574e44a3add",
   "metadata": {},
   "source": [
    "Just like encryption, the decryption function works in reverse: thanks to a mapping, in this case between ciphertext and plaintext, created from the same given key, each ciphertext character will be replaced to return the plaintext. Again, the same applies for spaces and special characters."
   ]
  },
  {
   "cell_type": "code",
   "execution_count": null,
   "id": "a5b0d026",
   "metadata": {},
   "outputs": [],
   "source": [
    "def caesar_decrypt(ciphertext, shift=0):\n",
    "    ''' Decrypt `ciphertext` (str) as a caesar cipher with a given `shift` (int) \n",
    "    '''\n",
    "    # Define dictionary {shift_letter : eng_letter}\n",
    "    unicode_chr = [i for i in range(ord('a'), ord('z')+1)]\n",
    "    \n",
    "    shiftl_engl = {}\n",
    "    for i,k in enumerate(unicode_chr):\n",
    "        shiftl_engl[chr(unicode_chr[(i+shift)%26])] = chr(k)\n",
    "        \n",
    "    # Plaintext\n",
    "    plaintext = ''\n",
    "    for l in ciphertext:\n",
    "        # Get value from dictionary giving ciphertext\n",
    "        plaintext += shiftl_engl.setdefault(l, l)\n",
    "            \n",
    "    return plaintext"
   ]
  },
  {
   "cell_type": "code",
   "execution_count": null,
   "id": "4317bf77",
   "metadata": {},
   "outputs": [],
   "source": [
    "# code snippet to test the implementation of the decryption function\n",
    "ciphertext = 'lipps!' # 'hello!' encoded with shift=4\n",
    "plaintext = caesar_decrypt(ciphertext, shift=4)\n",
    "\n",
    "print(ciphertext, '->', plaintext)  # expected output 'lipps! -> hello!'"
   ]
  },
  {
   "cell_type": "markdown",
   "id": "6bf38609",
   "metadata": {},
   "source": [
    "### Ciphertext"
   ]
  },
  {
   "cell_type": "code",
   "execution_count": null,
   "id": "09746945-d53e-47eb-8bf2-0079a150ecdc",
   "metadata": {},
   "outputs": [],
   "source": [
    "# Load ciphertext\n",
    "with open(file='ciphertext_caesar.txt', mode='r') as f:\n",
    "    ctxt = f.read()\n",
    "\n",
    "print(ctxt[0:427] + '...')"
   ]
  },
  {
   "cell_type": "markdown",
   "id": "36d3498f",
   "metadata": {},
   "source": [
    "### Brute Force Attack"
   ]
  },
  {
   "cell_type": "markdown",
   "id": "1c3d1d7c-d12a-4104-8eae-c3ec454069ea",
   "metadata": {},
   "source": [
    "*Assuming you have a finite number of possible keys*, which is the maximum number of letters in that language, the Caesar cipher becomes vulnerable to a brute force attack. In this case (English), since the key space is 26 (actually **25** because a shift value equal to zero isn’t counted), a brute force attack is possible. Therefore, any eavesdroppers can try all possible keys and find the correct shift value, which allows them to decrypt the message and understand the information. [[1]](#[1])"
   ]
  },
  {
   "cell_type": "code",
   "execution_count": null,
   "id": "de080a59-7b09-44b7-82a3-ab3bfc76d0ca",
   "metadata": {},
   "outputs": [],
   "source": [
    "# Try all possible key\n",
    "force_attack = []\n",
    "\n",
    "for i in range(1,26): #shift = 0 is the same as ctxt\n",
    "    force_attack.append(caesar_decrypt(ctxt,i))"
   ]
  },
  {
   "cell_type": "code",
   "execution_count": null,
   "id": "aeeb5386-91a3-405a-81c8-7a106a44f12c",
   "metadata": {},
   "outputs": [],
   "source": [
    "# select the right shift\n",
    "rshift = 20\n",
    "# decrypt ciphertext\n",
    "print('The right key as shift value is: ', rshift, '\\n\\n', force_attack[rshift-1])"
   ]
  },
  {
   "cell_type": "markdown",
   "id": "9503d65c",
   "metadata": {
    "jp-MarkdownHeadingCollapsed": true
   },
   "source": [
    "## Simple Substitution Cipher"
   ]
  },
  {
   "cell_type": "markdown",
   "id": "1142538f-3869-4cde-b822-e75b386169ad",
   "metadata": {},
   "source": [
    "Simple substitution is another *symmetric encryption method* which has the goal to **encrypt text** and not bits. The idea in this case is to replace each letter of plaintext with another letter of the alphabet, hence the **key** is a **bijective mapping** between alphabet letters. For example, key mapping could be *{qwertyuiopasdfghjklzxcvbnm}*, in this case *A would be replaced by Q, B would become W, and so on*; if the mapping is equal to the original alphabet shifted, it is like having a Caesar Chiper. [[2]](#[2])\n",
    "<br>The receiver deciphers the text by performing the inverse substitution process to extract the original message."
   ]
  },
  {
   "cell_type": "markdown",
   "id": "7d156339-cebb-4302-9ee2-a74cc5b87866",
   "metadata": {},
   "source": [
    "The previous assumption of having a finite number of possible keys is no more valid, so a *brute force attack is unfeasible*: even assuming an eavesdropper can try one key every 1ns, key space for English alphabet is equal to 26! ~ 10$^{27}$, it would take 10 billion years to try all keys.\n",
    "<br>Simple substitution remains a historical cipher that is **unsecure**, so its major weakness is that each letter of a plaintext is always mapped to the same letter of the ciphertext hence statistical properties of the plaintext are preserved in the ciphertext. Those are the key points for  **Frequency Analysis Attack**."
   ]
  },
  {
   "cell_type": "markdown",
   "id": "1b6cc83d-e26d-49cc-8475-0789d2425df0",
   "metadata": {},
   "source": [
    "### Encryption"
   ]
  },
  {
   "cell_type": "markdown",
   "id": "2cfdf6bf-3701-42f0-8a7a-018fa90dac99",
   "metadata": {
    "jp-MarkdownHeadingCollapsed": true,
    "tags": []
   },
   "source": [
    "Sender has to compute the encryption of the plaintext before transmission. Thanks to the given mapping, the encryption takes each letter from plaintext and substitutes them with the ciphertext letters; no substitution for space and special characters."
   ]
  },
  {
   "cell_type": "code",
   "execution_count": null,
   "id": "dd72620a-d955-4fba-872f-ebcd005d484d",
   "metadata": {},
   "outputs": [],
   "source": [
    "def substitution_encrypt(plaintext, mapping):\n",
    "    ''' Encrypt `plaintext` (str) as a simple substitution cipher with a given \n",
    "        `mapping` (dict) from plaintext letters to ciphertext letters '''\n",
    "\n",
    "    # Ciphertext\n",
    "    ciphertext = ''\n",
    "    for l in plaintext:\n",
    "        # Get value from dictionary giving plaintext\n",
    "        ciphertext += mapping.setdefault(l, l)\n",
    "            \n",
    "    return ciphertext"
   ]
  },
  {
   "cell_type": "code",
   "execution_count": null,
   "id": "177d186b-bc0a-4dca-a1b4-b1244cfb7bb1",
   "metadata": {},
   "outputs": [],
   "source": [
    "# code snippet to test the implementation  of the encryption function\n",
    "plaintext = 'hello!'\n",
    "mapping = {'h': 'a', 'e': 'p', 'l': 'w', 'o': 'q'}\n",
    "\n",
    "ciphertext = substitution_encrypt(plaintext, mapping)\n",
    "\n",
    "print(plaintext, '->', ciphertext) # expected output 'hello! -> apwwq!'"
   ]
  },
  {
   "cell_type": "markdown",
   "id": "cd574022-82e0-4163-807a-aabb6bd4b86d",
   "metadata": {},
   "source": [
    "### Decryption"
   ]
  },
  {
   "cell_type": "markdown",
   "id": "d38bc5b0-dbb0-4523-acef-495bdf268000",
   "metadata": {
    "jp-MarkdownHeadingCollapsed": true,
    "tags": []
   },
   "source": [
    "The receiver has to compute the decryption of the ciphertext to extract the information from the message. In this case, it needs the key mapping, but from ciphertext to plaintext letters. Since simple substitution is a symmetric algorithm, or the key is shared information, the given key mapping is from plaintext to ciphertext letters. So, after the inversion of the mapping, the decrypter is able to extract the plaintext with substitution."
   ]
  },
  {
   "cell_type": "code",
   "execution_count": null,
   "id": "adb6fd3b",
   "metadata": {},
   "outputs": [],
   "source": [
    "def substitution_decrypt(ciphertext, mapping):\n",
    "    ''' Decrypt `ciphertext` (str) as a simple substitution cipher with a given \n",
    "       `mapping` (dict) from plaintext letters to ciphertext letters '''\n",
    "\n",
    "    # Invert mapping\n",
    "    imapping = {}\n",
    "    for k,v in mapping.items():\n",
    "        imapping[v] = k\n",
    "    \n",
    "    # Plaintext\n",
    "    plaintext = ''\n",
    "    for l in ciphertext:\n",
    "        # Get value from dictionary inverted giving ciphertext\n",
    "        plaintext += imapping.setdefault(l, l)\n",
    "            \n",
    "    return plaintext"
   ]
  },
  {
   "cell_type": "code",
   "execution_count": null,
   "id": "e340b9fa-5b1f-4d1d-98ae-bfc73467bce3",
   "metadata": {},
   "outputs": [],
   "source": [
    "# code snippet to test the implementation of the decryption function\n",
    "mapping = {'h': 'a', 'e': 'p', 'l': 'w', 'o': 'q'}  # previous mapping\n",
    "ciphertext = 'apwwq!'\n",
    "\n",
    "plaintext = substitution_decrypt(ciphertext, mapping)\n",
    "\n",
    "print(ciphertext, '->', plaintext)  # expected output 'apwwq! -> hello!'"
   ]
  },
  {
   "cell_type": "markdown",
   "id": "a0a843fd-8f7d-4189-8a7c-d7015d9c2897",
   "metadata": {},
   "source": [
    "### Ciphertext"
   ]
  },
  {
   "cell_type": "code",
   "execution_count": null,
   "id": "8d8aa5ee-a119-48c0-a9e8-3b4b8a3cb034",
   "metadata": {},
   "outputs": [],
   "source": [
    "# Load ciphertext\n",
    "with open(file='ciphertext_simple.txt', mode='r') as f:\n",
    "    ctxt = f.read()\n",
    "\n",
    "print(ctxt[0:414] + '...')"
   ]
  },
  {
   "cell_type": "markdown",
   "id": "17025077-c0a2-4a1c-add8-a79897c1d4a0",
   "metadata": {},
   "source": [
    "### Frequency Analysis Attack"
   ]
  },
  {
   "cell_type": "markdown",
   "id": "abda6491-1fb9-4442-b3bc-69c403bfc413",
   "metadata": {},
   "source": [
    "Determine the frequency of the letters in the ciphertext and match it with that of the plaintext; a distribution taken from a large text can be used as a model of plaintext letter frequency. Thus, *match the most frequent letter in the ciphertext with the one in the model, then the second most frequent, and so on*. Having the mapping, it’s possible to try to decrypt the text. Certainly, it will not entirely decrypt because probably there are some distributions of letters which are more or less at the same value, hence they could be mistakenly exchanged. At this point, it’s possible to identify some words that are arising. By comparing the word that is believed to be in the plaintext and the same encrypted word, it is possible to rewrite the mapping while *maintaining the bijective property* of the function. Repeating the process many times, the final mapping is eventually reached and the plaintext is correctly decrypted. [[3]](#[3])"
   ]
  },
  {
   "cell_type": "markdown",
   "id": "59434d7e-a0c1-4d03-8c84-a1f9c948f935",
   "metadata": {},
   "source": [
    "#### English Letters Distribution"
   ]
  },
  {
   "cell_type": "code",
   "execution_count": null,
   "id": "4e9a0d70-5652-4a5e-bb57-84ed8282b3da",
   "metadata": {},
   "outputs": [],
   "source": [
    "# function to infer the letters distribution from a text\n",
    "def letter_distribution(text):\n",
    "    ''' Return the `distribution` (dict) of the letters in `text` (str) '''\n",
    "    \n",
    "    # Initialize a dictionary {letter : freq}\n",
    "    distribution = {chr(i): 0 for i in range(ord('a'), ord('z')+1)}\n",
    "\n",
    "    # Find length of text counting only alphabet letters\n",
    "    len_alpha = len([ele for ele in text if ele.isalpha()])\n",
    "\n",
    "    # Set frequency for all letter in dictionary\n",
    "    for i in distribution.keys():\n",
    "        distribution[i] = text.count(i)/len_alpha\n",
    "        \n",
    "    return distribution   "
   ]
  },
  {
   "cell_type": "code",
   "execution_count": null,
   "id": "b7131445-b0b8-44c7-8918-9fad5cb7475a",
   "metadata": {},
   "outputs": [],
   "source": [
    "# code snippet to test the implementation of `letter_distribution`\n",
    "text = 'hello world!'\n",
    "dist = letter_distribution(text)\n",
    "\n",
    "print({k:v for k,v in dist.items() if v != 0})\n",
    "\n",
    "# expected ouput: \n",
    "# {'d': 0.1, 'e': 0.1, 'h': 0.1, 'l': 0.3, 'o': 0.2, 'r': 0.1, 'w': 0.1, ...}"
   ]
  },
  {
   "cell_type": "code",
   "execution_count": null,
   "id": "0052ab81-e261-4660-ab34-f86582601c67",
   "metadata": {},
   "outputs": [],
   "source": [
    "# load text used as model of plaintext letters frequency\n",
    "with open(file='The-Adventure-of-the-Dancing-Men.txt', encoding='utf-8') as f:\n",
    "    txt = f.read()\n",
    "\n",
    "print(txt[0:414] + '...')"
   ]
  },
  {
   "cell_type": "code",
   "execution_count": null,
   "id": "eeae9160-8631-4d25-bbb9-79aac9547d23",
   "metadata": {},
   "outputs": [],
   "source": [
    "# estimate the English letters distribution \n",
    "dist_pattern = letter_distribution(txt.lower())"
   ]
  },
  {
   "cell_type": "code",
   "execution_count": null,
   "id": "266c71cd-20c3-4a53-9050-f380aef8eff4",
   "metadata": {},
   "outputs": [],
   "source": [
    "# plot the English letter distribution\n",
    "fig, ax = plt.subplots(1, 1, figsize=(12, 5))\n",
    "ax.bar(dist_pattern.keys(), dist_pattern.values(), align=\"center\", width=0.6, alpha=0.9)\n",
    "_ = ax.set(ylabel='Frequency', title='Letters Distribution of \"The-Adventure-of-the-Dancing-Men\"')"
   ]
  },
  {
   "cell_type": "code",
   "execution_count": null,
   "id": "862cf0c3-d828-4e1c-a10c-485d7f7c5a5d",
   "metadata": {},
   "outputs": [],
   "source": [
    "# store the distribution as a pickle file\n",
    "with open(file='Distribution_Pattern.pkl', mode='wb') as f:\n",
    "    pickle.dump(dist_pattern, f)  "
   ]
  },
  {
   "cell_type": "markdown",
   "id": "843e03cd",
   "metadata": {
    "jp-MarkdownHeadingCollapsed": true
   },
   "source": [
    "#### Perform attack"
   ]
  },
  {
   "cell_type": "code",
   "execution_count": null,
   "id": "af14a82e-0202-4d9f-abb3-e1feba2c439c",
   "metadata": {},
   "outputs": [],
   "source": [
    "# estimate the ciphertext letters distribution\n",
    "dist = letter_distribution(ctxt)\n",
    "\n",
    "# plot the ciphertext letters distribution\n",
    "fig, ax = plt.subplots(1, 1, figsize=(12, 5))\n",
    "ax.bar(dist.keys(), dist.values(), align=\"center\", width=0.6, alpha=0.9)\n",
    "_ = ax.set(ylabel='Frequency', title='Letters Distribution of Simple Substitution ciphertext')"
   ]
  },
  {
   "cell_type": "code",
   "execution_count": null,
   "id": "ec29b4ed-f4c3-4edd-beb1-cca4691460a5",
   "metadata": {},
   "outputs": [],
   "source": [
    "# load distribution model\n",
    "with open(file='Distribution_Pattern.pkl', mode='rb') as f:\n",
    "    dist_pattern = pickle.load(f)\n",
    "    \n",
    "# sort distributions by value\n",
    "key = [k[0] for k in sorted(dist_pattern.items(), key=lambda x:x[1])]\n",
    "value = [v[0] for v in sorted(dist.items(), key=lambda x:x[1])]\n",
    "\n",
    "# create mapping from matching of the two sorted distribution\n",
    "mapping = {k:v for k,v in sorted(zip(key,value))}"
   ]
  },
  {
   "cell_type": "code",
   "execution_count": null,
   "id": "34e78e6f-4b10-4697-8178-8ec6637f672d",
   "metadata": {},
   "outputs": [],
   "source": [
    "# print mapping\n",
    "print('Plain  - ',' '.join(mapping.keys()))\n",
    "print('Chiper - ',' '.join(i[1] for i in mapping.items()))"
   ]
  },
  {
   "cell_type": "code",
   "execution_count": null,
   "id": "deb76657-5fce-4f72-9fee-9b4295f62c07",
   "metadata": {},
   "outputs": [],
   "source": [
    "# print decrypted plaintext\n",
    "decrypt_1 = substitution_decrypt(ctxt, mapping)\n",
    "print(decrypt_1[0:2201]) # Less character for simplicity"
   ]
  },
  {
   "cell_type": "markdown",
   "id": "2a865b4d-f62b-4060-9ada-0ee85de0e0f5",
   "metadata": {},
   "source": [
    "Like has been explained before, with the matching of the two distributions, *the mapping has some letters that are mistakenly exchanged*, so as seen above, the text is **not correctly decrypted**. But now, you could search if there are some words that are almost correctly decrypted. Considering these words that are believed to be in the plaintext and matching them with the cipher words at the same position, it is possible to rewrite the mapping and observe if the text decryption works properly, a little better, or if the new mapping doesn’t work well."
   ]
  },
  {
   "cell_type": "code",
   "execution_count": null,
   "id": "90e97fdf-9676-4074-92d0-481357187e17",
   "metadata": {},
   "outputs": [],
   "source": [
    "# function to modify mapping maintaining bijective property \n",
    "def swap_mapping(mapping, mapping_ToInsert):\n",
    "    ''' Return `new_mapping` (dict) from previous `mapping` (dict) by adding the new key-value couples that \n",
    "    are present in `mapping_ToInsert` maintaining bijective property, or 26 couples at all'''\n",
    "    \n",
    "    new_mapping = mapping.copy()\n",
    "\n",
    "    for k,v in mapping_ToInsert.items():\n",
    "        # add new KEY-value\n",
    "        new_mapping[k.upper()] = v\n",
    "        # search for the old key that holds the new value and assign it the old value that was held by the new key\n",
    "        new_mapping[[i for i in new_mapping.keys() if new_mapping[i]==v][0]] = new_mapping[k]\n",
    "        # delete old key-value\n",
    "        del new_mapping[k]\n",
    "        # sorted by key\n",
    "        new_mapping = {k:v for k,v in sorted(new_mapping.items())}\n",
    "        \n",
    "    return new_mapping"
   ]
  },
  {
   "cell_type": "markdown",
   "id": "34f3a994-2d7e-42b4-a906-82b44862f1b2",
   "metadata": {},
   "source": [
    "For example, pausing at the word that starts at index *1939*  seems to be **\"example\"**. So the first four letters are properly mapped, you could try to write mapping again by observing the cipher word at the same position."
   ]
  },
  {
   "cell_type": "code",
   "execution_count": null,
   "id": "ee13609b-500d-4bbc-a8ce-5cd183a2cebe",
   "metadata": {},
   "outputs": [],
   "source": [
    "# index\n",
    "p = 1939\n",
    "# print word\n",
    "print('Considering the first decryption trial \"'+decrypt_1[p:p+7]+'\", the cipher word \"'+ctxt[p:p+7]+'\" should decrypt to \"example\".\\n')\n",
    "\n",
    "# print mapping_ToInsert\n",
    "print('Plain  - ', decrypt_1[p:p+7], '---> examPLe ---> P L')\n",
    "print('Chiper - ', ctxt[p:p+7], '--->', ctxt[p:p+7], '--->', ctxt[p+4], ctxt[p+5])"
   ]
  },
  {
   "cell_type": "code",
   "execution_count": null,
   "id": "85ab5acc-2f1b-4dc0-83c9-b6de26e289c3",
   "metadata": {},
   "outputs": [],
   "source": [
    "# Rewrite mapping\n",
    "example_mapping = swap_mapping(mapping, {'p':'k', 'l':'i'})\n",
    "# print mapping\n",
    "print('Plain  - ',' '.join(example_mapping.keys()))\n",
    "print('Chiper - ',' '.join(i[1] for i in example_mapping.items()))"
   ]
  },
  {
   "cell_type": "code",
   "execution_count": null,
   "id": "022b7c86-8719-43d5-9055-28ec2233ce99",
   "metadata": {},
   "outputs": [],
   "source": [
    "# print decrypted plaintext\n",
    "decrypt_2 = substitution_decrypt(ctxt, example_mapping)\n",
    "print(decrypt_2[0:2201])"
   ]
  },
  {
   "cell_type": "markdown",
   "id": "8758801b-4c7d-4fdd-8259-07521f4ea557",
   "metadata": {},
   "source": [
    "A very little better decryption because now you can focus with cunning on date, in particular as date before number there is for sure a month. Focusing on first date **\"aPsiL 30\"**, taking on accuracy of the previous mapping, the word of plaintext can only be **\"april\"**. So, you can repeat the process again assigning the only letter that aren't properly mapping and watching again the word of ciphertext at same position."
   ]
  },
  {
   "cell_type": "code",
   "execution_count": null,
   "id": "0d389e45-0c53-4c43-bfcf-9325f4e5aebf",
   "metadata": {},
   "outputs": [],
   "source": [
    "# index\n",
    "p = 23\n",
    "# print word\n",
    "print('Considering the previous decryption trial \"'+decrypt_2[p:p+5]+'\", the cipher word \"'+ctxt[p:p+5]+'\" should decrypt to \"april\".\\n')\n",
    "\n",
    "# print mapping_ToInsert\n",
    "print('Plain  - ', decrypt_2[p:p+5], '---> apRil ---> R')\n",
    "print('Chiper - ', ctxt[p:p+5], '--->', ctxt[p:p+5], '--->', ctxt[p+2])"
   ]
  },
  {
   "cell_type": "code",
   "execution_count": null,
   "id": "0e5a5039-7c88-4967-9266-3e6615f0d513",
   "metadata": {},
   "outputs": [],
   "source": [
    "# Rewrite mapping\n",
    "april_mapping = swap_mapping(example_mapping, {'r':'w'})\n",
    "# print mapping\n",
    "print('Plain  - ',' '.join(april_mapping.keys()))\n",
    "print('Chiper - ',' '.join(i[1] for i in april_mapping.items()))"
   ]
  },
  {
   "cell_type": "code",
   "execution_count": null,
   "id": "d5ffdff9-e438-49b6-83be-7d972d0b1921",
   "metadata": {},
   "outputs": [],
   "source": [
    "# print decrypted plaintext\n",
    "decrypt_3 = substitution_decrypt(ctxt, april_mapping)\n",
    "print(decrypt_3[0:2201])"
   ]
  },
  {
   "cell_type": "markdown",
   "id": "95482153-783e-41fc-8252-f8624fcd8b65",
   "metadata": {},
   "source": [
    "Now with the second date **\"cebRwaRg\"** and remember the assumption that *'e'* and *'a'* are properly mapped (*'ExAmplE'*) you can get the right word of plaintext. "
   ]
  },
  {
   "cell_type": "code",
   "execution_count": null,
   "id": "19db521d-7cb4-4482-ae2a-09936d02efe1",
   "metadata": {},
   "outputs": [],
   "source": [
    "# index\n",
    "p = 38\n",
    "# print word\n",
    "print('Considering the previous decryption trial \"'+decrypt_3[p:p+8]+'\", the cipher word \"'+ctxt[p:p+8]+'\" should decrypt to \"february\".\\n')\n",
    "\n",
    "# print mapping_ToInsert\n",
    "print('Plain  - ', decrypt_3[p:p+8], '---> february ---> F U Y')\n",
    "print('Chiper - ', ctxt[p:p+8], '--->', ctxt[p:p+8], '--->', ctxt[p], ctxt[p+4], ctxt[p+7])"
   ]
  },
  {
   "cell_type": "code",
   "execution_count": null,
   "id": "2daca072-7241-44cb-a064-a37927fa034d",
   "metadata": {},
   "outputs": [],
   "source": [
    "# Rewrite mapping\n",
    "february_mapping = swap_mapping(april_mapping, {'f':'d', 'u':'o', 'y':'q'})\n",
    "# print mapping\n",
    "print('Plain  - ',' '.join(february_mapping.keys()))\n",
    "print('Chiper - ',' '.join(i[1] for i in february_mapping.items()))"
   ]
  },
  {
   "cell_type": "code",
   "execution_count": null,
   "id": "935e0574-07a5-4212-856b-b625dd1961e3",
   "metadata": {},
   "outputs": [],
   "source": [
    "# print decrypted plaintext\n",
    "decrypt_4 = substitution_decrypt(ctxt, february_mapping)\n",
    "print(decrypt_4[0:2201])"
   ]
  },
  {
   "cell_type": "markdown",
   "id": "3b26924f-c2c0-4323-9e83-6e294491d443",
   "metadata": {},
   "source": [
    "Once understood the trick game become easy to play."
   ]
  },
  {
   "cell_type": "code",
   "execution_count": null,
   "id": "37ec1fea-0934-4f49-a84e-1204b3851014",
   "metadata": {},
   "outputs": [],
   "source": [
    "# index\n",
    "p = 64\n",
    "# print word\n",
    "print('Considering the previous decryption trial \"'+decrypt_4[p:p+8]+'\", the cipher word \"'+ctxt[p:p+8]+'\" should decrypt to \"american\".\\n')\n",
    "\n",
    "# print mapping_ToInsert\n",
    "print('Plain  - ', decrypt_3[p:p+8], '---> american ---> C N')\n",
    "print('Chiper - ', ctxt[p:p+8], '--->', ctxt[p:p+8], '--->', ctxt[p+5], ctxt[p+7])"
   ]
  },
  {
   "cell_type": "code",
   "execution_count": null,
   "id": "2de5da6f-c840-4640-b80a-089e364fa73b",
   "metadata": {},
   "outputs": [],
   "source": [
    "# Rewrite mapping\n",
    "american_mapping = swap_mapping(february_mapping, {'c':'g', 'n':'b'})\n",
    "# print mapping\n",
    "print('Plain  - ',' '.join(american_mapping.keys()))\n",
    "print('Chiper - ',' '.join(i[1] for i in american_mapping.items()))"
   ]
  },
  {
   "cell_type": "code",
   "execution_count": null,
   "id": "36cb6d88-e322-479f-bdfa-0107e26b5ffd",
   "metadata": {},
   "outputs": [],
   "source": [
    "# print decrypted plaintext\n",
    "decrypt_5 = substitution_decrypt(ctxt, american_mapping)\n",
    "print(decrypt_5[0:5984])"
   ]
  },
  {
   "cell_type": "code",
   "execution_count": null,
   "id": "c87ef382-35c8-4ad5-ad4b-9fd5b148fddd",
   "metadata": {},
   "outputs": [],
   "source": [
    "# index and length\n",
    "index_len = ((3828, 8, 'analyzer'),\n",
    "             (0, 6, 'claude'),\n",
    "             (109, 8, 'computer'),\n",
    "             (132, 13, 'cryptographer'),\n",
    "             (239, 19, 'electronic circuits'),\n",
    "             (88, 19, 'electrical engineer'),\n",
    "             (170, 11, 'information'),\n",
    "             (146, 5, 'known'),\n",
    "             (2598, 10, 'new jersey'))\n",
    "\n",
    "# print mapping_ToInsert\n",
    "for i,l,s in index_len:\n",
    "    # print word\n",
    "    print('Considering the previous decryption trial \"'+decrypt_5[i:i+l]+'\", the cipher word \"'+ctxt[i:i+l]+'\" should decrypt to \"'+s+ '\".\\n')\n",
    "    # print mapping_ToInsert\n",
    "    print('Plain  - ', decrypt_5[i:i+l], '--->', s, ' --->', [kk.upper()+' ' for kk in s])\n",
    "    print('Chiper - ', ctxt[i:i+l], '--->', ctxt[i:i+l], '--->', [ctxt[i+kk]+' ' for kk in range(l)])\n",
    "    print()"
   ]
  },
  {
   "cell_type": "code",
   "execution_count": null,
   "id": "fc3cc124-155e-4c83-8936-1ff9a46b28de",
   "metadata": {},
   "outputs": [],
   "source": [
    "# Rewrite mapping\n",
    "last_mapping = swap_mapping(american_mapping, {'z':'y', 'd':'a', 'o':'l', 't':'s', 'g':'e', 'h':'v', 's':'n', 'w':'j', 'j':'u'})\n",
    "\n",
    "# print mapping\n",
    "print('The right mapping.\\n')\n",
    "print('Plain  - ',' '.join(last_mapping.keys()))\n",
    "print('Chiper - ',' '.join(i[1] for i in last_mapping.items()))"
   ]
  },
  {
   "cell_type": "code",
   "execution_count": null,
   "id": "faaa2c1d-98bc-49d9-af3e-005cb45443c5",
   "metadata": {},
   "outputs": [],
   "source": [
    "# print decrypted plaintext\n",
    "print(substitution_decrypt(ctxt, last_mapping))"
   ]
  },
  {
   "cell_type": "markdown",
   "id": "c4efc21a-e582-4997-bead-662b1b5da934",
   "metadata": {
    "jp-MarkdownHeadingCollapsed": true
   },
   "source": [
    "## Vigenère Cipher"
   ]
  },
  {
   "cell_type": "markdown",
   "id": "e61d5f3f-472f-4181-b966-7495920aac69",
   "metadata": {},
   "source": [
    "**Polyalphabetic** substitution cipher, the Vigenère cipher is a method of encrypting alphabetic **text** where each letter of the plaintext is encoded with a different **Caesar cipher**, *whose increment is determined by the corresponding letter of another text: the key*. "
   ]
  },
  {
   "cell_type": "markdown",
   "id": "2a0ae0bb-d535-4ba4-9175-052cdd5eef94",
   "metadata": {},
   "source": [
    "Just as you saw with the Simple Substitution Cipher, the brute force attack doesn’t work because without knowing the key length, it is unfeasible to try each single combination. Even if the key length is known, it is impossible to find it. In any case, the way to break this algorithm is again based on **frequency**, but it is more complicated and the longer the key, the greater the difficulty. [[4]](#[4])"
   ]
  },
  {
   "cell_type": "markdown",
   "id": "9c490566-44ae-43be-9ccd-75538e3cf291",
   "metadata": {},
   "source": [
    "### Encryption"
   ]
  },
  {
   "cell_type": "markdown",
   "id": "eb2a83dd-220e-4b75-8298-5201eaa5d3e1",
   "metadata": {},
   "source": [
    "For Vigenère encryption, each alphabetic character of the plaintext will be encrypted individually by the Caesar Cipher algorithm. Assuming key characters as a number, where in your case (English) ‘a’ is equal to 0 and ‘z’ is equal to 25, and so on for the intermediate values, you can easily obtain the shift value. When the last character of the key is used, the new plaintext alphabetic character will simply be encrypted with the first key character again. So, for example, if the key length is 5, then every fifth alphabetic character of the plaintext will be encrypted with the same shift value for Caesar Cipher encryption."
   ]
  },
  {
   "cell_type": "code",
   "execution_count": null,
   "id": "8c3fc397-b95b-4614-a034-193c5ac2af5a",
   "metadata": {},
   "outputs": [],
   "source": [
    "def vigenere_encrypt(plaintext, key):\n",
    "    ''' Encrypt `plaintext` (str) as a Vigenère cipher with a given `key` (str) '''\n",
    "    \n",
    "    # lower key to get correctly shift value\n",
    "    key = key.lower()\n",
    "    \n",
    "    # Ciphertext\n",
    "    ciphertext = ''\n",
    "    i_key = 0 #key index\n",
    "    \n",
    "    for i in plaintext:\n",
    "        # get shift from key character\n",
    "        shift = ord(key[i_key%(len(key))])-97\n",
    "        # caesar encryption of plaintext character\n",
    "        ciphertext += caesar_encrypt(i, shift)\n",
    "        if i.isalpha():\n",
    "            # increment key index\n",
    "            i_key += 1\n",
    "            \n",
    "    return ciphertext"
   ]
  },
  {
   "cell_type": "code",
   "execution_count": null,
   "id": "55a52d76-588f-4b21-abdb-99991a6b590c",
   "metadata": {},
   "outputs": [],
   "source": [
    "# code snippet to test the implementation  of the encryption function\n",
    "plaintext = 'hello!'\n",
    "key = 'key'\n",
    "\n",
    "ciphertext = vigenere_encrypt(plaintext, key)\n",
    "\n",
    "print(plaintext, '->', ciphertext) # expected output 'hello! -> rijvs!'"
   ]
  },
  {
   "cell_type": "markdown",
   "id": "7d4944e4-d32d-439d-9c45-f056e2b66dfe",
   "metadata": {},
   "source": [
    "### Decryption"
   ]
  },
  {
   "cell_type": "markdown",
   "id": "ae61128b-3737-4416-8f3e-69e566cdda6e",
   "metadata": {},
   "source": [
    "Decryption works as the inverse of encryption, as simple as that. Indeed, in the same way as above, the shift value is computed from the key text, and then to get the plaintext, the function will simply apply the Caesar decryption."
   ]
  },
  {
   "cell_type": "code",
   "execution_count": null,
   "id": "2f1f8b1c-8c92-4575-8396-678b636f9423",
   "metadata": {},
   "outputs": [],
   "source": [
    "def vigenere_decrypt(ciphertext, key):\n",
    "    ''' Decrypt `ciphertext` (str) as a Vigenère cipher with a given `key` (str) '''\n",
    "    \n",
    "    # lower key\n",
    "    key = key.lower()\n",
    "    \n",
    "    # plaintext\n",
    "    plaintext = ''\n",
    "    i_key = 0\n",
    "    \n",
    "    for i in ciphertext:\n",
    "        shift = ord(key[i_key%(len(key))])-97\n",
    "        # caesar decryption of ciphertext character\n",
    "        plaintext += caesar_decrypt(i, shift)\n",
    "        if i.isalpha():\n",
    "            i_key += 1\n",
    "            \n",
    "    return plaintext"
   ]
  },
  {
   "cell_type": "code",
   "execution_count": null,
   "id": "ca218900-2d3f-446d-8a6a-f1b604315363",
   "metadata": {},
   "outputs": [],
   "source": [
    "# code snippet to test the implementation  of the encryption function\n",
    "ciphertext = 'rijvs!'\n",
    "key = 'key'\n",
    "\n",
    "plaintext = vigenere_decrypt(ciphertext, key)\n",
    "\n",
    "print(ciphertext, '->', plaintext) # expected output 'rijvs! -> hello!'"
   ]
  },
  {
   "cell_type": "markdown",
   "id": "cc77f0c1-7350-4340-84b5-af58bec50c18",
   "metadata": {},
   "source": [
    "### Ciphertext"
   ]
  },
  {
   "cell_type": "code",
   "execution_count": null,
   "id": "775da393-75e9-4ecf-9aad-beb7c2318d9d",
   "metadata": {},
   "outputs": [],
   "source": [
    "# Load ciphertext\n",
    "with open(file='ciphertext_vigenere.txt', mode='r') as f:\n",
    "    ctxt = f.read()\n",
    "\n",
    "print(ctxt[0:917] + '...')"
   ]
  },
  {
   "cell_type": "markdown",
   "id": "5b92ba02-eac1-4eed-9a8d-44bac73343b6",
   "metadata": {},
   "source": [
    "### Attack"
   ]
  },
  {
   "cell_type": "markdown",
   "id": "18fe15ee-6150-49ff-92e2-37ec74a7551d",
   "metadata": {},
   "source": [
    "Attack is a combination of **frequency analysis** and **examination of repeating** groups of letters in the ciphertext. In general, with the examination of repeating groups of letters, the lengths of the gaps between these repeating sequences are likely to be multiples of the key length. So, by finding the greatest common divisor of these lengths, you can get a good estimate of the key length[[5]](#[5])[[6]](#[6]). Once you know the key length, you can perform a frequency analysis on each set of letters encrypted with the same letter of the key[[3]](#[3])[[6]](#[6]). This time, the key length comes with the assignment and is equal to 6."
   ]
  },
  {
   "cell_type": "code",
   "execution_count": null,
   "id": "375a7904-0afc-438b-b14c-33793a986659",
   "metadata": {},
   "outputs": [],
   "source": [
    "key_len = 6\n",
    "key = ''\n",
    "\n",
    "# load distribution model\n",
    "with open(file='Distribution_Pattern.pkl', mode='rb') as f:\n",
    "    dist_pattern = pickle.load(f)\n",
    "\n",
    "for i in range(key_len):\n",
    "    # take letters of ctxt of every i+len(key)\n",
    "    cctxt = ''.join([l for l in ctxt if l.isalpha()][i::key_len])\n",
    "    # compute distribution \n",
    "    distribution = letter_distribution(cctxt)\n",
    "    # get most frequent letter\n",
    "    mFreq_clett = sorted(distribution.items(), key=lambda x:x[1], reverse=True)[0][0]\n",
    "    mFreq_plett = sorted(dist_pattern.items(), key=lambda x:x[1], reverse=True)[0][0]\n",
    "    # calculate key char as shift from the two most frequent letter\n",
    "    key += chr((ord(mFreq_clett) - ord(mFreq_plett))%26 + 97)\n",
    "\n",
    "print('The right key is: \"'+key+'\".')"
   ]
  },
  {
   "cell_type": "code",
   "execution_count": null,
   "id": "abf42447-a729-4146-b390-32115bb89ac7",
   "metadata": {},
   "outputs": [],
   "source": [
    "# print decrypted text\n",
    "print(vigenere_decrypt(ctxt, key))"
   ]
  },
  {
   "cell_type": "markdown",
   "id": "04ca2b25-4875-4c46-8c53-700a2cf9b658",
   "metadata": {},
   "source": [
    "## Conclusion"
   ]
  },
  {
   "cell_type": "markdown",
   "id": "a0b88e69-52b0-42d2-bcdd-8a53c94307e1",
   "metadata": {},
   "source": [
    "As one considers the encryption techniques covered, it is clear that although algorithms such as the Caesar Cipher and Simple Substitution Cipher are very simple and thus facilitate simple encryption and decryption procedures, their very simplicity also makes them extremely susceptible to cryptanalysis. Due to its small key space, the Caesar Cipher is especially vulnerable to brute force attacks since it is simple to cycle through every conceivable shift. Even with a wider key space, the Simple Substitution Cipher cannot hide the letter frequency, leaving it vulnerable to frequency analysis. The procedure becomes slightly more complex using Vigenère, but it is still breakable unless the key is as lengthy as plaintext. These flaws demonstrate the need for more complex encryption methods in order to safeguard data from these ever-evolving tactics. The exploration of these algorithms serves as a reminder of the continuous evolution required in the field of cryptography."
   ]
  },
  {
   "cell_type": "markdown",
   "id": "fedf8465-da27-4ad0-ab3f-54abbcee0963",
   "metadata": {},
   "source": [
    "## Reference"
   ]
  },
  {
   "cell_type": "markdown",
   "id": "a9c78bd0-875a-4838-96af-7bb03f6bb691",
   "metadata": {},
   "source": [
    "<span id='[1]' > [1] [Caesar Cipher](https://en.wikipedia.org/wiki/Caesar_cipher) </span>\n",
    "<br><span id='[2]' > [2] [Simple Substitution Cipher](https://simple.wikipedia.org/wiki/Substitution_cipher) </span>\n",
    "<br><span id='[3]' > [3] [Frequency Analysis attack](https://en.wikipedia.org/wiki/Frequency_analysis) </span>\n",
    "<br><span id='[4]' > [4] [Vigenère Cipher](https://en.wikipedia.org/wiki/Vigen%C3%A8re_cipher) </span>\n",
    "<br><span id='[5]' > [5] [Kasiski's Method](https://pages.mtu.edu/~shene/NSF-4/Tutorial/VIG/Vig-Kasiski.html) </span>\n",
    "<br><span id='[6]' > [6] \"[Cryptanalysis of the Vigenère Cipher: Kasiski Test](https://www.nku.edu/~christensen/1402%20vigenere%20cryptanalysis.pdf)\", (2015) Chris Christensen.</span>"
   ]
  }
 ],
 "metadata": {
  "kernelspec": {
   "display_name": "Python 3 (ipykernel)",
   "language": "python",
   "name": "python3"
  },
  "language_info": {
   "codemirror_mode": {
    "name": "ipython",
    "version": 3
   },
   "file_extension": ".py",
   "mimetype": "text/x-python",
   "name": "python",
   "nbconvert_exporter": "python",
   "pygments_lexer": "ipython3",
   "version": "3.11.7"
  }
 },
 "nbformat": 4,
 "nbformat_minor": 5
}
